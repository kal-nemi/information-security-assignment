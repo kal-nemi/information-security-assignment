{
  "nbformat": 4,
  "nbformat_minor": 0,
  "metadata": {
    "colab": {
      "name": "IS_A1_P3.ipynb",
      "provenance": [],
      "collapsed_sections": []
    },
    "kernelspec": {
      "name": "python3",
      "display_name": "Python 3"
    },
    "language_info": {
      "name": "python"
    }
  },
  "cells": [
    {
      "cell_type": "markdown",
      "metadata": {
        "id": "rBkXo_VsMYqE"
      },
      "source": [
        "**Program 3-Write a program that can perform a letter frequency attack on an additive cipher without human intervention. Your software should produce possible plain text in rough order of likelihood.**"
      ]
    },
    {
      "cell_type": "code",
      "metadata": {
        "id": "yQOgJbw9Lkm3"
      },
      "source": [
        "def letter_frequency_attack():\n",
        "\n",
        "        k = input(\"Please enter you additive-chipher-text :\")\n",
        "        k = k.upper()\n",
        "        print(\"###############################################\\n\")\n",
        "        \n",
        "        for j in range(0, 26):\n",
        "             plain = []\n",
        "             text = \" \"\n",
        "             for i in range(0 , len(k)):\n",
        "                 if k[i] == ' ':\n",
        "                     y = ' '\n",
        "                     plain.append(y)\n",
        "                     continue\n",
        "                 b = (ord(k[i])-65)\n",
        "                 z = (b-j)%26\n",
        "                 y = (chr(z + 65))\n",
        "                 plain.append(y)\n",
        "\n",
        "             for x in plain:\n",
        "                 text += x\n",
        "\n",
        "             print(f'Encrypted Cipher-text:{text}')\n",
        "\n",
        "\n",
        "    "
      ],
      "execution_count": 19,
      "outputs": []
    },
    {
      "cell_type": "code",
      "metadata": {
        "colab": {
          "base_uri": "https://localhost:8080/"
        },
        "id": "ejp2vBo4Lsqa",
        "outputId": "a6f8956a-a9ee-4e3d-a7ec-b6987c5c2983"
      },
      "source": [
        "print(\"Press 1 if you want to proceed and 0 to quit.\")\n",
        "p = int(input())\n",
        "if(p==1):\n",
        "    letter_frequency_attack()\n",
        "else:\n",
        "    print(\"Thank You..\")"
      ],
      "execution_count": 20,
      "outputs": [
        {
          "output_type": "stream",
          "name": "stdout",
          "text": [
            "Press 1 if you want to proceed and 0 to quit.\n",
            "1\n",
            "Please enter you additive-chipher-text :hello\n",
            "###############################################\n",
            "\n",
            "Encrypted Cipher-text: HELLO\n",
            "Encrypted Cipher-text: GDKKN\n",
            "Encrypted Cipher-text: FCJJM\n",
            "Encrypted Cipher-text: EBIIL\n",
            "Encrypted Cipher-text: DAHHK\n",
            "Encrypted Cipher-text: CZGGJ\n",
            "Encrypted Cipher-text: BYFFI\n",
            "Encrypted Cipher-text: AXEEH\n",
            "Encrypted Cipher-text: ZWDDG\n",
            "Encrypted Cipher-text: YVCCF\n",
            "Encrypted Cipher-text: XUBBE\n",
            "Encrypted Cipher-text: WTAAD\n",
            "Encrypted Cipher-text: VSZZC\n",
            "Encrypted Cipher-text: URYYB\n",
            "Encrypted Cipher-text: TQXXA\n",
            "Encrypted Cipher-text: SPWWZ\n",
            "Encrypted Cipher-text: ROVVY\n",
            "Encrypted Cipher-text: QNUUX\n",
            "Encrypted Cipher-text: PMTTW\n",
            "Encrypted Cipher-text: OLSSV\n",
            "Encrypted Cipher-text: NKRRU\n",
            "Encrypted Cipher-text: MJQQT\n",
            "Encrypted Cipher-text: LIPPS\n",
            "Encrypted Cipher-text: KHOOR\n",
            "Encrypted Cipher-text: JGNNQ\n",
            "Encrypted Cipher-text: IFMMP\n"
          ]
        }
      ]
    }
  ]
}