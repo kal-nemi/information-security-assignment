{
  "nbformat": 4,
  "nbformat_minor": 0,
  "metadata": {
    "colab": {
      "name": "IS_A1_P1.ipynb",
      "provenance": []
    },
    "kernelspec": {
      "name": "python3",
      "display_name": "Python 3"
    },
    "language_info": {
      "name": "python"
    }
  },
  "cells": [
    {
      "cell_type": "markdown",
      "metadata": {
        "id": "jF5wYKF7AqpU"
      },
      "source": [
        "# **Program 1-Write a program that can encrypt  and decrypt using the Additive Cipher.**"
      ]
    },
    {
      "cell_type": "code",
      "metadata": {
        "id": "Yyu61DQt5qzj"
      },
      "source": [
        "def Encryption(Mystr,K):\n",
        "  Mystr = Mystr.upper()\n",
        "  IndexDict ={\"A\":0,\"B\":1,\"C\":2,\"D\":3,\"E\":4,\"F\":5,\"G\":6,\"H\":7,\"I\":8,\"J\":9,\"K\":10,\"L\":11,\"M\":12,\"N\":13,\"O\":14,\"P\":15,\"Q\":16,\"R\":17,\"S\":18,\"T\":19,\"U\":20,\"V\":21,\"W\":22,\"X\":23,\"Y\":24,\"Z\":25}\n",
        "  key_list = list(IndexDict.keys())\n",
        "  val_list = list(IndexDict.values())\n",
        " \n",
        "\n",
        "  for i in range(len(Mystr)):\n",
        "    P = IndexDict[Mystr[i]]\n",
        "    C = (P+K)%26\n",
        "    # print key with val 100\n",
        "    position = val_list.index(C)\n",
        "    print(key_list[position])\n",
        "    \n",
        "    "
      ],
      "execution_count": 73,
      "outputs": []
    },
    {
      "cell_type": "code",
      "metadata": {
        "colab": {
          "base_uri": "https://localhost:8080/"
        },
        "id": "l0EX-6Qd6OLo",
        "outputId": "39064c14-1ad0-4c7b-84bb-57f8aff4f745"
      },
      "source": [
        "Encryption(\"HELLO\",15)"
      ],
      "execution_count": 74,
      "outputs": [
        {
          "output_type": "stream",
          "name": "stdout",
          "text": [
            "W\n",
            "T\n",
            "A\n",
            "A\n",
            "D\n"
          ]
        }
      ]
    },
    {
      "cell_type": "code",
      "metadata": {
        "id": "jK3Rys1O_QGH"
      },
      "source": [
        "def Decryption(Mystr, K):\n",
        "  Mystr = Mystr.upper()\n",
        "  IndexDict ={\"A\":0,\"B\":1,\"C\":2,\"D\":3,\"E\":4,\"F\":5,\"G\":6,\"H\":7,\"I\":8,\"J\":9,\"K\":10,\"L\":11,\"M\":12,\"N\":13,\"O\":14,\"P\":15,\"Q\":16,\"R\":17,\"S\":18,\"T\":19,\"U\":20,\"V\":21,\"W\":22,\"X\":23,\"Y\":24,\"Z\":25}\n",
        "  key_list = list(IndexDict.keys())\n",
        "  val_list = list(IndexDict.values())\n",
        " \n",
        "\n",
        "  for i in range(len(Mystr)):\n",
        "    C = IndexDict[Mystr[i]]\n",
        "    P = (C-K)%26\n",
        "    # print key with val 100\n",
        "    position = val_list.index(P)\n",
        "    print(key_list[position])\n"
      ],
      "execution_count": 75,
      "outputs": []
    },
    {
      "cell_type": "code",
      "metadata": {
        "colab": {
          "base_uri": "https://localhost:8080/"
        },
        "id": "HJhQPkR2_lTd",
        "outputId": "710c79d0-28ee-4a65-c202-fd2f19f74095"
      },
      "source": [
        "Decryption(\"wtaad\",15)"
      ],
      "execution_count": 76,
      "outputs": [
        {
          "output_type": "stream",
          "name": "stdout",
          "text": [
            "H\n",
            "E\n",
            "L\n",
            "L\n",
            "O\n"
          ]
        }
      ]
    }
  ]
}