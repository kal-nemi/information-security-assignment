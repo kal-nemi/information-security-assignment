{
  "nbformat": 4,
  "nbformat_minor": 0,
  "metadata": {
    "colab": {
      "name": "IS_A1_P1.ipynb",
      "provenance": [],
      "collapsed_sections": [],
      "authorship_tag": "ABX9TyNc++iJWRJs/PtVWQhJkGmw",
      "include_colab_link": true
    },
    "kernelspec": {
      "name": "python3",
      "display_name": "Python 3"
    },
    "language_info": {
      "name": "python"
    }
  },
  "cells": [
    {
      "cell_type": "markdown",
      "metadata": {
        "id": "view-in-github",
        "colab_type": "text"
      },
      "source": [
        "<a href=\"https://colab.research.google.com/github/kal-nemi/information-security-assignment/blob/main/IS_A1_P1.ipynb\" target=\"_parent\"><img src=\"https://colab.research.google.com/assets/colab-badge.svg\" alt=\"Open In Colab\"/></a>"
      ]
    },
    {
      "cell_type": "markdown",
      "metadata": {
        "id": "jF5wYKF7AqpU"
      },
      "source": [
        "## **Program 1-Write a program that can encrypt  and decrypt using the Additive Cipher.**"
      ]
    },
    {
      "cell_type": "code",
      "metadata": {
        "id": "Yyu61DQt5qzj"
      },
      "source": [
        "#defining function for the ecryption of text\n",
        "def Encryption(Mystr,K):\n",
        "\n",
        "  #changing the text to uppercase( in case the text is in lowercase)\n",
        "  Mystr = Mystr.upper()\n",
        "\n",
        "  #defining dictionary of indexes\n",
        "  IndexDict ={\"A\":0,\"B\":1,\"C\":2,\"D\":3,\"E\":4,\"F\":5,\"G\":6,\"H\":7,\"I\":8,\"J\":9,\"K\":10,\"L\":11,\"M\":12,\"N\":13,\"O\":14,\"P\":15,\"Q\":16,\"R\":17,\"S\":18,\"T\":19,\"U\":20,\"V\":21,\"W\":22,\"X\":23,\"Y\":24,\"Z\":25}\n",
        "  \n",
        "  #making list of keys of dictionary 'IndexDict'\n",
        "  key_list = list(IndexDict.keys())\n",
        "\n",
        "  #making list of values of dictionary 'IndexDict'\n",
        "  val_list = list(IndexDict.values())\n",
        " \n",
        "  #loop through the length of text\n",
        "  for i in range(len(Mystr)):\n",
        "    P = IndexDict[Mystr[i]]     #finding index value of each character of text\n",
        "    C = (P+K)%26                # formula used in encryption using additive cipher\n",
        "    \n",
        "    val = val_list.index(C)    \n",
        "    print(key_list[val])    #finally printing each character of the encrpyted text\n",
        "    \n",
        "    "
      ],
      "execution_count": 1,
      "outputs": []
    },
    {
      "cell_type": "code",
      "metadata": {
        "colab": {
          "base_uri": "https://localhost:8080/"
        },
        "id": "l0EX-6Qd6OLo",
        "outputId": "e7d68cf8-4de8-4f4d-91c4-026e17ff040c"
      },
      "source": [
        "Encryption(\"HELLO\",15)    #calling encryption function"
      ],
      "execution_count": 2,
      "outputs": [
        {
          "output_type": "stream",
          "name": "stdout",
          "text": [
            "W\n",
            "T\n",
            "A\n",
            "A\n",
            "D\n"
          ]
        }
      ]
    },
    {
      "cell_type": "code",
      "metadata": {
        "id": "jK3Rys1O_QGH"
      },
      "source": [
        "#defining function for the decryption of text\n",
        "def Decryption(Mystr, K):\n",
        "\n",
        "  #changing the text to uppercase( in case the text is in lowercase)\n",
        "  Mystr = Mystr.upper()\n",
        "\n",
        "  #defining dictionary of indexes\n",
        "  IndexDict ={\"A\":0,\"B\":1,\"C\":2,\"D\":3,\"E\":4,\"F\":5,\"G\":6,\"H\":7,\"I\":8,\"J\":9,\"K\":10,\"L\":11,\"M\":12,\"N\":13,\"O\":14,\"P\":15,\"Q\":16,\"R\":17,\"S\":18,\"T\":19,\"U\":20,\"V\":21,\"W\":22,\"X\":23,\"Y\":24,\"Z\":25}\n",
        "  \n",
        "  #making list of keys of dictionary 'IndexDict'\n",
        "  key_list = list(IndexDict.keys())\n",
        "\n",
        "  #making list of values of dictionary 'IndexDict'\n",
        "  val_list = list(IndexDict.values())\n",
        " \n",
        "  #loop through the length of text\n",
        "  for i in range(len(Mystr)):\n",
        "    C = IndexDict[Mystr[i]]     #finding index value of each character of text\n",
        "    P = (C-K)%26                # formula used in decryption using additive cipher\n",
        "   \n",
        "    val = val_list.index(P)\n",
        "    print(key_list[val])      #finally printing each character of the decrpyted text\n"
      ],
      "execution_count": 3,
      "outputs": []
    },
    {
      "cell_type": "code",
      "metadata": {
        "colab": {
          "base_uri": "https://localhost:8080/"
        },
        "id": "HJhQPkR2_lTd",
        "outputId": "14e83c33-7877-4ca7-d4a6-bb14cc834ffd"
      },
      "source": [
        "Decryption(\"wtaad\",15)      # calling decryption  function "
      ],
      "execution_count": 4,
      "outputs": [
        {
          "output_type": "stream",
          "name": "stdout",
          "text": [
            "H\n",
            "E\n",
            "L\n",
            "L\n",
            "O\n"
          ]
        }
      ]
    }
  ]
}