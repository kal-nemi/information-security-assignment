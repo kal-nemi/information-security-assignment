{
  "nbformat": 4,
  "nbformat_minor": 0,
  "metadata": {
    "colab": {
      "name": "IS_A1_P2.ipynb",
      "provenance": [],
      "collapsed_sections": [],
      "authorship_tag": "ABX9TyNG2SmJOTZxNfAbPv73IV5y",
      "include_colab_link": true
    },
    "kernelspec": {
      "name": "python3",
      "display_name": "Python 3"
    },
    "language_info": {
      "name": "python"
    }
  },
  "cells": [
    {
      "cell_type": "markdown",
      "metadata": {
        "id": "view-in-github",
        "colab_type": "text"
      },
      "source": [
        "<a href=\"https://colab.research.google.com/github/kal-nemi/information-security-assignment/blob/main/IS_A1_P2.ipynb\" target=\"_parent\"><img src=\"https://colab.research.google.com/assets/colab-badge.svg\" alt=\"Open In Colab\"/></a>"
      ]
    },
    {
      "cell_type": "markdown",
      "metadata": {
        "id": "38mvWqYpehUZ"
      },
      "source": [
        "## **Program 2-Write a program that can encrypt and decrypyt using the Affine Cipher**"
      ]
    },
    {
      "cell_type": "code",
      "metadata": {
        "id": "f0l1vHDFYwXU"
      },
      "source": [
        "#defining function for the ecryption of text \n",
        "def Encryption(Mystr,k1,k2):\n",
        "\n",
        "  #changing the text to uppercase( in case the text is in lowercase)\n",
        "  Mystr = Mystr.upper()\n",
        "\n",
        "  #defining dictionary of indexes\n",
        "  IndexDict ={\"A\":0,\"B\":1,\"C\":2,\"D\":3,\"E\":4,\"F\":5,\"G\":6,\"H\":7,\"I\":8,\"J\":9,\"K\":10,\"L\":11,\"M\":12,\"N\":13,\"O\":14,\"P\":15,\"Q\":16,\"R\":17,\"S\":18,\"T\":19,\"U\":20,\"V\":21,\"W\":22,\"X\":23,\"Y\":24,\"Z\":25}\n",
        "  \n",
        "  #making list of keys of dictionary 'IndexDict'\n",
        "  key_list = list(IndexDict.keys())\n",
        "\n",
        "  #making list of values of dictionary 'IndexDict'\n",
        "  val_list = list(IndexDict.values())\n",
        "\n",
        "  #loop through the length of text\n",
        "  for i in range(len(Mystr)):\n",
        "    P = IndexDict[Mystr[i]]     #finding index value of each character of text\n",
        "    T = (P*k1)%26               # formula used in encryption using affine cipher\n",
        "    C = (T+k2)%26\n",
        "    val = val_list.index(C)\n",
        "    print(key_list[val])      #finally printing each character of the encrpyted text\n"
      ],
      "execution_count": 1,
      "outputs": []
    },
    {
      "cell_type": "code",
      "metadata": {
        "colab": {
          "base_uri": "https://localhost:8080/"
        },
        "id": "J5mnM17oaLjA",
        "outputId": "95b6e118-4f94-44b2-b8f9-45dcf62986be"
      },
      "source": [
        "Encryption(\"hello\",7,2)"
      ],
      "execution_count": 2,
      "outputs": [
        {
          "output_type": "stream",
          "name": "stdout",
          "text": [
            "Z\n",
            "E\n",
            "B\n",
            "B\n",
            "W\n"
          ]
        }
      ]
    },
    {
      "cell_type": "code",
      "metadata": {
        "id": "bSOdpeBadhEc"
      },
      "source": [
        "#This function used in finding mod inverse of a number (used in decryption function below)\n",
        "def modInverse(a, m):\n",
        "     \n",
        "    for x in range(1, m):\n",
        "        if (((a%m) * (x%m)) % m == 1):\n",
        "            return x\n",
        "    return -1"
      ],
      "execution_count": 3,
      "outputs": []
    },
    {
      "cell_type": "code",
      "metadata": {
        "id": "CD0CPi10aYsb"
      },
      "source": [
        "#defining function for the decryption of text\n",
        "def Decryption(Mystr,k1,k2):\n",
        "\n",
        "  #changing the text to uppercase( in case the text is in lowercase)\n",
        "  Mystr = Mystr.upper()\n",
        "\n",
        "  #defining dictionary of indexes\n",
        "  IndexDict ={\"A\":0,\"B\":1,\"C\":2,\"D\":3,\"E\":4,\"F\":5,\"G\":6,\"H\":7,\"I\":8,\"J\":9,\"K\":10,\"L\":11,\"M\":12,\"N\":13,\"O\":14,\"P\":15,\"Q\":16,\"R\":17,\"S\":18,\"T\":19,\"U\":20,\"V\":21,\"W\":22,\"X\":23,\"Y\":24,\"Z\":25}\n",
        "  \n",
        "  #making list of keys of dictionary 'IndexDict'\n",
        "  key_list = list(IndexDict.keys())\n",
        "\n",
        "  #making list of values of dictionary 'IndexDict'\n",
        "  val_list = list(IndexDict.values())\n",
        "\n",
        "  #loop through the given range\n",
        "  for i in range(len(Mystr)):\n",
        "    C = IndexDict[Mystr[i]]     #finding index value of each character of text\n",
        "    T = (C-k2)%26                   #formula used in decryption using affine cipher\n",
        "    InverseK1 = modInverse(k1,26)     #calling function modinverse to find the mod inverse of k2\n",
        "    P = (T*InverseK1)%26\n",
        "    val = val_list.index(P)\n",
        "    print(key_list[val])        ##finally printing each character of the decrpyted text\n"
      ],
      "execution_count": 4,
      "outputs": []
    },
    {
      "cell_type": "code",
      "metadata": {
        "colab": {
          "base_uri": "https://localhost:8080/"
        },
        "id": "va2sBA41cbho",
        "outputId": "d5afd5d0-39f6-4310-8f54-7f706979ac09"
      },
      "source": [
        "Decryption(\"zebbw\",7,2)     # calling decryption  function "
      ],
      "execution_count": 5,
      "outputs": [
        {
          "output_type": "stream",
          "name": "stdout",
          "text": [
            "H\n",
            "E\n",
            "L\n",
            "L\n",
            "O\n"
          ]
        }
      ]
    }
  ]
}