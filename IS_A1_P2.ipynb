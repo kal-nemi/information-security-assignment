{
  "nbformat": 4,
  "nbformat_minor": 0,
  "metadata": {
    "colab": {
      "name": "IS_A1_P2.ipynb",
      "provenance": []
    },
    "kernelspec": {
      "name": "python3",
      "display_name": "Python 3"
    },
    "language_info": {
      "name": "python"
    }
  },
  "cells": [
    {
      "cell_type": "markdown",
      "metadata": {
        "id": "38mvWqYpehUZ"
      },
      "source": [
        "## **Program 2-Write a program that can encrypt and decrypyt using the Affine Cipher**"
      ]
    },
    {
      "cell_type": "code",
      "metadata": {
        "id": "f0l1vHDFYwXU"
      },
      "source": [
        "def Encryption(Mystr,k1,k2):\n",
        "  Mystr = Mystr.upper()\n",
        "  IndexDict ={\"A\":0,\"B\":1,\"C\":2,\"D\":3,\"E\":4,\"F\":5,\"G\":6,\"H\":7,\"I\":8,\"J\":9,\"K\":10,\"L\":11,\"M\":12,\"N\":13,\"O\":14,\"P\":15,\"Q\":16,\"R\":17,\"S\":18,\"T\":19,\"U\":20,\"V\":21,\"W\":22,\"X\":23,\"Y\":24,\"Z\":25}\n",
        "  key_list = list(IndexDict.keys())\n",
        "  val_list = list(IndexDict.values())\n",
        "  for i in range(len(Mystr)):\n",
        "    P = IndexDict[Mystr[i]]\n",
        "    T = (P*k1)%26\n",
        "    C = (T+k2)%26\n",
        "    val = val_list.index(C)\n",
        "    print(key_list[val])\n"
      ],
      "execution_count": 1,
      "outputs": []
    },
    {
      "cell_type": "code",
      "metadata": {
        "colab": {
          "base_uri": "https://localhost:8080/"
        },
        "id": "J5mnM17oaLjA",
        "outputId": "4034e0c2-20f1-424c-8428-65dc1d199057"
      },
      "source": [
        "Encryption(\"hello\",7,2)"
      ],
      "execution_count": 2,
      "outputs": [
        {
          "output_type": "stream",
          "name": "stdout",
          "text": [
            "Z\n",
            "E\n",
            "B\n",
            "B\n",
            "W\n"
          ]
        }
      ]
    },
    {
      "cell_type": "code",
      "metadata": {
        "id": "bSOdpeBadhEc"
      },
      "source": [
        "def modInverse(a, m):\n",
        "     \n",
        "    for x in range(1, m):\n",
        "        if (((a%m) * (x%m)) % m == 1):\n",
        "            return x\n",
        "    return -1"
      ],
      "execution_count": 7,
      "outputs": []
    },
    {
      "cell_type": "code",
      "metadata": {
        "id": "CD0CPi10aYsb"
      },
      "source": [
        "def Decryption(Mystr,k1,k2):\n",
        "  Mystr = Mystr.upper()\n",
        "  IndexDict ={\"A\":0,\"B\":1,\"C\":2,\"D\":3,\"E\":4,\"F\":5,\"G\":6,\"H\":7,\"I\":8,\"J\":9,\"K\":10,\"L\":11,\"M\":12,\"N\":13,\"O\":14,\"P\":15,\"Q\":16,\"R\":17,\"S\":18,\"T\":19,\"U\":20,\"V\":21,\"W\":22,\"X\":23,\"Y\":24,\"Z\":25}\n",
        "  key_list = list(IndexDict.keys())\n",
        "  val_list = list(IndexDict.values())\n",
        "  for i in range(len(Mystr)):\n",
        "    C = IndexDict[Mystr[i]]\n",
        "    T = (C-k2)%26\n",
        "    InverseK1 = modInverse(k1,26)\n",
        "    P = (T*InverseK1)%26\n",
        "    val = val_list.index(P)\n",
        "    print(key_list[val])\n"
      ],
      "execution_count": 8,
      "outputs": []
    },
    {
      "cell_type": "code",
      "metadata": {
        "colab": {
          "base_uri": "https://localhost:8080/"
        },
        "id": "va2sBA41cbho",
        "outputId": "43433d1d-682f-4f71-b058-59826293ff97"
      },
      "source": [
        "Decryption(\"zebbw\",7,2)"
      ],
      "execution_count": 9,
      "outputs": [
        {
          "output_type": "stream",
          "name": "stdout",
          "text": [
            "H\n",
            "E\n",
            "L\n",
            "L\n",
            "O\n"
          ]
        }
      ]
    }
  ]
}